{
 "cells": [
  {
   "cell_type": "markdown",
   "metadata": {},
   "source": [
    "# Clustering towns within the city of Dublin\n",
    "\n",
    "\n",
    "#### A Capstone project undertaken by Lorcan Everard, as part of the IBM Data Science Professional Certification."
   ]
  },
  {
   "cell_type": "markdown",
   "metadata": {},
   "source": [
    "## Introduction\n",
    "\n",
    "\n",
    "This is a project clustering the towns within Dublin, the capital city of Ireland. This is a useful excersice as there is no readily available data set for even the locationf of towns withng, readily available online. The visualisation of the towns withing each postcode and the clustering of these towns gives a great insight into the city of over 1.3 million residents.\n"
   ]
  },
  {
   "cell_type": "markdown",
   "metadata": {},
   "source": [
    "## Data\n",
    "\n",
    "### Location Data\n",
    "There is no readily available data online contains the longitude and latitude values of each town within Dublin. A list of Dublin towns, subgrouped my postcode was used from http://www.dublintourist.com/maps/dublin-postal-codes/ . This was converted manually into a CSV file with three columns (Town name, Town address & Postalcode). The coordinate data was found using the imported python module Nominatim from the geopy.geocoders package. This package makes it easy for Python developers to locate the coordinates of addresses, cities, countries, and landmarks across the globe using third-party geocoders and other data sources.\n",
    "\n",
    "\n",
    "The Choropleth maps are created using a geojson file of the Dublin Postcodes. https://github.com/AugmentedGeoBae/GeoCluster/blob/master/public/GeoJSON/DublinPostcodes_4326.geojson This data split up the city of Dublin into sections bounded by the potalcode."
   ]
  },
  {
   "cell_type": "markdown",
   "metadata": {},
   "source": [
    "## Methodology\n"
   ]
  },
  {
   "cell_type": "markdown",
   "metadata": {},
   "source": [
    "### Initial Data\n",
    "The initial town data head is shown below.vThe data frame is 3 columns x 120 rows. The three dolumn are Town, Area and Address. The address column is formatted in such a wa that the geometrci coordinates are able to be found."
   ]
  },
  {
   "cell_type": "markdown",
   "metadata": {},
   "source": [
    "![Table1](Table1.PNG)"
   ]
  },
  {
   "cell_type": "markdown",
   "metadata": {},
   "source": [
    "The address of the dataframe is used to find the latitude and longitude coordinates using the Nominatim Python module. These new column need to be present ofr the Fousquare API search. "
   ]
  },
  {
   "cell_type": "markdown",
   "metadata": {},
   "source": [
    "![title](table2.PNG)"
   ]
  },
  {
   "cell_type": "markdown",
   "metadata": {},
   "source": [
    "### Dublin Vizualisation\n",
    "The towns and postcodes are vizualised in the floium map below. The postcode regions are outlined by the black boundary and the individual towns are represented by the blue cirlcular markers. It is noticed that some of the markers lie outside of the postcode region. This was thought to hbe due to inaccuracies when findin ghte geometric coordinates."
   ]
  },
  {
   "cell_type": "markdown",
   "metadata": {},
   "source": [
    "![title](map1.PNG)"
   ]
  },
  {
   "cell_type": "markdown",
   "metadata": {},
   "source": [
    "### Foursquare API Call\n",
    "\n",
    "The next step is tp make the FPurscquare API call. The longitude and tatitude of each town is search in Foursquare and returns the venues near that location. A radius of 700m and a limit of 200 venues per location was used to limit the search. 3988 venue results are resturned. Each has a venue name, latitude, longitude and catagory.\n",
    "\n",
    "Each of the postcode are then grouped by catagory as the catagory is the feature we care about most. There are over 220 venue catagory values. Each catagory receives a relative frequency within each portalcode dependant on the nuber of that catsgory in that postalcode. This is how the cluster is then determined. The top 10 venue categories are considered for the clustering. "
   ]
  },
  {
   "cell_type": "markdown",
   "metadata": {},
   "source": [
    "![title](table3.PNG)"
   ]
  },
  {
   "cell_type": "markdown",
   "metadata": {},
   "source": [
    "The K-means algorithm is used to cluster the towns. In order to calculate the optimal number of clusters to use, the elbow method is used. Bwlow showa s plot of the distortion score plotted against the number of clusters, k. A best value of $10$ calculated however the 'elbow' on the plot is ambigueous."
   ]
  },
  {
   "cell_type": "markdown",
   "metadata": {},
   "source": [
    "![title](graph1.PNG)"
   ]
  },
  {
   "cell_type": "markdown",
   "metadata": {},
   "source": [
    "The Calinski Harabaz Score is used to affirm the choice of K. The optimal value of $k = 9$ was determined and this was chosed as the numberof clusters to use for the analysis."
   ]
  },
  {
   "cell_type": "markdown",
   "metadata": {},
   "source": [
    "![title](graph2.PNG)"
   ]
  },
  {
   "cell_type": "markdown",
   "metadata": {},
   "source": [
    "## Results"
   ]
  },
  {
   "cell_type": "markdown",
   "metadata": {},
   "source": [
    "The table below shows the top 10 most popular venues within each of the first 5 town in dublin, and the associated kluster label."
   ]
  },
  {
   "cell_type": "markdown",
   "metadata": {},
   "source": [
    "![title](table4.PNG)"
   ]
  },
  {
   "cell_type": "markdown",
   "metadata": {},
   "source": [
    "The map below shows each of the nine calulated clusters within ghte dataset. Each one is represented on the map by a differant color marker on the map."
   ]
  },
  {
   "cell_type": "markdown",
   "metadata": {},
   "source": [
    "![title](map2.PNG)"
   ]
  },
  {
   "cell_type": "markdown",
   "metadata": {},
   "source": [
    "The results of the clustering is shown below. The table contaisn the cluster label, the count of town in that cluster and some of the names of the towns in that cluster."
   ]
  },
  {
   "cell_type": "markdown",
   "metadata": {},
   "source": [
    "![title](table5.PNG)"
   ]
  },
  {
   "cell_type": "markdown",
   "metadata": {},
   "source": [
    "## Discussion\n",
    "\n",
    "It is seen that in the table containing the number of towns in each cluster that there is a massively dissporortionate ammount of towns with in cluster 4. The 75 town in this cluster are shown in light Turcoise on the map above. Most of these towns are within the centre of Dublin city. With a lot of retail venues such as shope and shopping centre and a loarge number of food venues.\n",
    "\n",
    "It is also seen that this large cluster seems to have two arms, reaching out to the areas of Blanchardstown in the NW of the map, and out to Dundrum in the SE of the map. The two largest shopping centres in Dublin are located in Blanchardstown and in Dundrum."
   ]
  },
  {
   "cell_type": "markdown",
   "metadata": {},
   "source": [
    "## Conclusion\n",
    "\n",
    "In conclusion it is seen that the towns wthin the city of Dublin has suceffully been clutered into $9$ unique clusters using the k-means clustering algorithm. These clutsers are based on the top 10 venue categories within each town.\n",
    "\n",
    "Perhaps an extention to this project is to use this clustered data to build a desicion treee classifier. This could beused to recommend certain areas, based on what type of facilities and venues are in that area."
   ]
  },
  {
   "cell_type": "code",
   "execution_count": null,
   "metadata": {},
   "outputs": [],
   "source": []
  }
 ],
 "metadata": {
  "kernelspec": {
   "display_name": "Python 3",
   "language": "python",
   "name": "python3"
  },
  "language_info": {
   "codemirror_mode": {
    "name": "ipython",
    "version": 3
   },
   "file_extension": ".py",
   "mimetype": "text/x-python",
   "name": "python",
   "nbconvert_exporter": "python",
   "pygments_lexer": "ipython3",
   "version": "3.7.3"
  }
 },
 "nbformat": 4,
 "nbformat_minor": 2
}
